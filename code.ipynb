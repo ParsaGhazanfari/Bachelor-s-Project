{
 "cells": [
  {
   "cell_type": "markdown",
   "metadata": {},
   "source": [
    "# list of 20 standard amino acids in peptides\n",
    "\n"
   ]
  },
  {
   "cell_type": "code",
   "execution_count": 6,
   "metadata": {},
   "outputs": [
    {
     "name": "stdout",
     "output_type": "stream",
     "text": [
      "╒═══════════════════╤═════════════════════╤═══════════════╤════════════════════╤══════════╤═══════════════════════╕\n",
      "│ One-Letter Code   │ Three-Letter Code   │ Name          │   Hydrogen Bonding │   Sulfur │   Resonance Structure │\n",
      "╞═══════════════════╪═════════════════════╪═══════════════╪════════════════════╪══════════╪═══════════════════════╡\n",
      "│ A                 │ Ala                 │ Alanine       │                  0 │        0 │                     0 │\n",
      "├───────────────────┼─────────────────────┼───────────────┼────────────────────┼──────────┼───────────────────────┤\n",
      "│ R                 │ Arg                 │ Arginine      │                  1 │        0 │                     0 │\n",
      "├───────────────────┼─────────────────────┼───────────────┼────────────────────┼──────────┼───────────────────────┤\n",
      "│ N                 │ Asn                 │ Asparagine    │                  1 │        0 │                     1 │\n",
      "├───────────────────┼─────────────────────┼───────────────┼────────────────────┼──────────┼───────────────────────┤\n",
      "│ D                 │ Asp                 │ Aspartic acid │                  1 │        0 │                     1 │\n",
      "├───────────────────┼─────────────────────┼───────────────┼────────────────────┼──────────┼───────────────────────┤\n",
      "│ C                 │ Cys                 │ Cysteine      │                  0 │        1 │                     1 │\n",
      "├───────────────────┼─────────────────────┼───────────────┼────────────────────┼──────────┼───────────────────────┤\n",
      "│ E                 │ Glu                 │ Glutamic acid │                  1 │        0 │                     1 │\n",
      "├───────────────────┼─────────────────────┼───────────────┼────────────────────┼──────────┼───────────────────────┤\n",
      "│ Q                 │ Gln                 │ Glutamine     │                  1 │        0 │                     1 │\n",
      "├───────────────────┼─────────────────────┼───────────────┼────────────────────┼──────────┼───────────────────────┤\n",
      "│ G                 │ Gly                 │ Glycine       │                  0 │        0 │                     0 │\n",
      "├───────────────────┼─────────────────────┼───────────────┼────────────────────┼──────────┼───────────────────────┤\n",
      "│ H                 │ His                 │ Histidine     │                  1 │        0 │                     1 │\n",
      "├───────────────────┼─────────────────────┼───────────────┼────────────────────┼──────────┼───────────────────────┤\n",
      "│ I                 │ Ile                 │ Isoleucine    │                  0 │        0 │                     0 │\n",
      "├───────────────────┼─────────────────────┼───────────────┼────────────────────┼──────────┼───────────────────────┤\n",
      "│ L                 │ Leu                 │ Leucine       │                  0 │        0 │                     0 │\n",
      "├───────────────────┼─────────────────────┼───────────────┼────────────────────┼──────────┼───────────────────────┤\n",
      "│ K                 │ Lys                 │ Lysine        │                  1 │        0 │                     0 │\n",
      "├───────────────────┼─────────────────────┼───────────────┼────────────────────┼──────────┼───────────────────────┤\n",
      "│ M                 │ Met                 │ Methionine    │                  0 │        1 │                     0 │\n",
      "├───────────────────┼─────────────────────┼───────────────┼────────────────────┼──────────┼───────────────────────┤\n",
      "│ F                 │ Phe                 │ Phenylalanine │                  0 │        0 │                     1 │\n",
      "├───────────────────┼─────────────────────┼───────────────┼────────────────────┼──────────┼───────────────────────┤\n",
      "│ P                 │ Pro                 │ Proline       │                  0 │        0 │                     0 │\n",
      "├───────────────────┼─────────────────────┼───────────────┼────────────────────┼──────────┼───────────────────────┤\n",
      "│ S                 │ Ser                 │ Serine        │                  1 │        0 │                     0 │\n",
      "├───────────────────┼─────────────────────┼───────────────┼────────────────────┼──────────┼───────────────────────┤\n",
      "│ T                 │ Thr                 │ Threonine     │                  1 │        0 │                     0 │\n",
      "├───────────────────┼─────────────────────┼───────────────┼────────────────────┼──────────┼───────────────────────┤\n",
      "│ W                 │ Trp                 │ Tryptophan    │                  1 │        0 │                     1 │\n",
      "├───────────────────┼─────────────────────┼───────────────┼────────────────────┼──────────┼───────────────────────┤\n",
      "│ Y                 │ Tyr                 │ Tyrosine      │                  1 │        0 │                     1 │\n",
      "├───────────────────┼─────────────────────┼───────────────┼────────────────────┼──────────┼───────────────────────┤\n",
      "│ V                 │ Val                 │ Valine        │                  0 │        0 │                     0 │\n",
      "╘═══════════════════╧═════════════════════╧═══════════════╧════════════════════╧══════════╧═══════════════════════╛\n"
     ]
    }
   ],
   "source": [
    "#!pip install tabulate\n",
    "from tabulate import tabulate\n",
    "\n",
    "amino_acids = [\n",
    "    [\"A\", \"Ala\", \"Alanine\", 0, 0, 0],\n",
    "    [\"R\", \"Arg\", \"Arginine\", 1, 0, 0],\n",
    "    [\"N\", \"Asn\", \"Asparagine\", 1, 0, 1],\n",
    "    [\"D\", \"Asp\", \"Aspartic acid\", 1, 0, 1],\n",
    "    [\"C\", \"Cys\", \"Cysteine\", 0, 1, 1],\n",
    "    [\"E\", \"Glu\", \"Glutamic acid\", 1, 0, 1],\n",
    "    [\"Q\", \"Gln\", \"Glutamine\", 1, 0, 1],\n",
    "    [\"G\", \"Gly\", \"Glycine\", 0, 0, 0],\n",
    "    [\"H\", \"His\", \"Histidine\", 1, 0, 1],\n",
    "    [\"I\", \"Ile\", \"Isoleucine\", 0, 0, 0],\n",
    "    [\"L\", \"Leu\", \"Leucine\", 0, 0, 0],\n",
    "    [\"K\", \"Lys\", \"Lysine\", 1, 0, 0],\n",
    "    [\"M\", \"Met\", \"Methionine\", 0, 1, 0],\n",
    "    [\"F\", \"Phe\", \"Phenylalanine\", 0, 0, 1],\n",
    "    [\"P\", \"Pro\", \"Proline\", 0, 0, 0],\n",
    "    [\"S\", \"Ser\", \"Serine\", 1, 0, 0],\n",
    "    [\"T\", \"Thr\", \"Threonine\", 1, 0, 0],\n",
    "    [\"W\", \"Trp\", \"Tryptophan\", 1, 0, 1],\n",
    "    [\"Y\", \"Tyr\", \"Tyrosine\", 1, 0, 1],\n",
    "    [\"V\", \"Val\", \"Valine\", 0, 0, 0]\n",
    "]\n",
    "\n",
    "print(tabulate(amino_acids, headers=[\"One-Letter Code\", \"Three-Letter Code\", \"Name\", \"Hydrogen Bonding\", \"Sulfur\", \"Resonance Structure\"], tablefmt=\"fancy_grid\"))"
   ]
  },
  {
   "cell_type": "code",
   "execution_count": 16,
   "metadata": {},
   "outputs": [
    {
     "name": "stdout",
     "output_type": "stream",
     "text": [
      "0    GG\n",
      "1    GG\n",
      "2    AG\n",
      "3    AG\n",
      "4    AA\n",
      "5    AA\n",
      "6    LG\n",
      "7    LG\n",
      "8    FG\n",
      "9    FG\n",
      "Name: Pep Seq, dtype: object\n",
      "569           GANPNAAG\n",
      "570      AAAAGGGEIKVAV\n",
      "571      AAAAGGGEIKVAV\n",
      "572             KKLLAK\n",
      "573         RGDSKKLLAK\n",
      "574    AAAAGGGLRKKLGKA\n",
      "575    AAAAGGGLLGARKKK\n",
      "576            AAAAAAD\n",
      "577            AAAAAAK\n",
      "578           GAAVILRR\n",
      "Name: Pep Seq, dtype: object\n"
     ]
    }
   ],
   "source": [
    "import pandas as pd\n",
    "\n",
    "file_path = 'PA_Database.csv'  \n",
    "df = pd.read_csv(file_path)\n",
    "peptide_seq = df.iloc[:579, 5]  \n",
    "\n",
    "print(peptide_seq.head(10))\n",
    "print(peptide_seq.tail(10))"
   ]
  },
  {
   "cell_type": "code",
   "execution_count": 20,
   "metadata": {},
   "outputs": [
    {
     "name": "stdout",
     "output_type": "stream",
     "text": [
      "  Pep Seq  Hydrophobicity\n",
      "0      GG            -0.4\n",
      "1      GG            -0.4\n",
      "2      AG             0.7\n",
      "3      AG             0.7\n",
      "4      AA             1.8\n",
      "5      AA             1.8\n",
      "6      LG             1.7\n",
      "7      LG             1.7\n",
      "8      FG             1.2\n",
      "9      FG             1.2\n",
      "             Pep Seq  Hydrophobicity\n",
      "569         GANPNAAG       -0.500000\n",
      "570    AAAAGGGEIKVAV        1.023077\n",
      "571    AAAAGGGEIKVAV        1.023077\n",
      "572           KKLLAK       -0.383333\n",
      "573       RGDSKKLLAK       -1.150000\n",
      "574  AAAAGGGLRKKLGKA       -0.080000\n",
      "575  AAAAGGGLLGARKKK       -0.080000\n",
      "576          AAAAAAD        1.042857\n",
      "577          AAAAAAK        0.985714\n",
      "578         GAAVILRR        0.837500\n"
     ]
    }
   ],
   "source": [
    "#!pip install biopython\n",
    "from Bio.SeqUtils import ProtParam\n",
    "\n",
    "def calculate_hydrophobicity(sequence):\n",
    "    analyzed_seq = ProtParam.ProteinAnalysis(sequence)\n",
    "    return analyzed_seq.gravy()\n",
    "\n",
    "hydrophobicities = peptide_seq.apply(calculate_hydrophobicity)\n",
    "\n",
    "df['Hydrophobicity'] = hydrophobicities\n",
    "new_file_path = 'Modified_PA_Database.csv'\n",
    "df.to_csv(new_file_path, index=False)\n",
    "\n",
    "print(df[['Pep Seq', 'Hydrophobicity']].head(10))\n",
    "print(df.iloc[569:579][['Pep Seq', 'Hydrophobicity']])"
   ]
  }
 ],
 "metadata": {
  "kernelspec": {
   "display_name": "base",
   "language": "python",
   "name": "python3"
  },
  "language_info": {
   "codemirror_mode": {
    "name": "ipython",
    "version": 3
   },
   "file_extension": ".py",
   "mimetype": "text/x-python",
   "name": "python",
   "nbconvert_exporter": "python",
   "pygments_lexer": "ipython3",
   "version": "3.12.4"
  }
 },
 "nbformat": 4,
 "nbformat_minor": 2
}
